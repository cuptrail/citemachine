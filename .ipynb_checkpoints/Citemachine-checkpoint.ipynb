{
 "cells": [
  {
   "cell_type": "markdown",
   "metadata": {},
   "source": [
    "Requires: NLTK, Gensim and Networkx\n",
    "\n",
    "Dataset Used: DBLP Citation Network V6 (http://arnetminer.org/citation)"
   ]
  },
  {
   "cell_type": "markdown",
   "metadata": {},
   "source": [
    "To train the whole system from ground up use the following code.\n",
    "\n",
    "This however will take at least 6 hours and use up over 6GB of RAM"
   ]
  },
  {
   "cell_type": "code",
   "execution_count": null,
   "metadata": {
    "collapsed": false
   },
   "outputs": [],
   "source": [
    "from citemachine.corpus.dblp import DBLP\n",
    "from citemachine import topic_model\n",
    "from citemachine.text_process import CorpusPreprocessor\n",
    "from citemachine.evaluation import precision, recall\n",
    "from citemachine.graph import CommunityRank, adj_lists_to_directed_graph\n",
    "from citemachine.recommender import LDARecommender, CiteMachine\n",
    "\n",
    "#set to the location where dblp is stored\n",
    "path_to_dblp = '/home/hex/acm_output.txt'\n",
    "#set to a small value like 5000 to test on a subset of the data\n",
    "num_docs = 1000\n",
    "\n",
    "#parses the dataset\n",
    "dblp = DBLP(path_to_dblp, max_docs=num_docs)\n",
    "\n",
    "#preprocesses the data and trains an LDA\n",
    "recommender = LDARecommender(corpus=dblp, num_topics=100, train_at_init=True)\n",
    "\n",
    "#builds a reference graph then finds communities and ranks documents in each one using PageRank\n",
    "references_graph = adj_lists_to_directed_graph(dblp.references)\n",
    "comrank = CommunityRank(references_graph)\n",
    "\n",
    "# Combines the LDA model with the community graphs to create the final recommendation system\n",
    "citem = CiteMachine(recommender, comrank)"
   ]
  },
  {
   "cell_type": "code",
   "execution_count": null,
   "metadata": {
    "collapsed": false
   },
   "outputs": [],
   "source": []
  }
 ],
 "metadata": {
  "kernelspec": {
   "display_name": "Python 3",
   "language": "python",
   "name": "python3"
  },
  "language_info": {
   "codemirror_mode": {
    "name": "ipython",
    "version": 3
   },
   "file_extension": ".py",
   "mimetype": "text/x-python",
   "name": "python",
   "nbconvert_exporter": "python",
   "pygments_lexer": "ipython3",
   "version": "3.4.3"
  }
 },
 "nbformat": 4,
 "nbformat_minor": 0
}
