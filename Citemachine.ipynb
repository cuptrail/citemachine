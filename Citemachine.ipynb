{
 "metadata": {
  "name": "",
  "signature": "sha256:69e1cca253b399f5e965e5f20820211de8f2c504ee080b8097d07064e8b137ca"
 },
 "nbformat": 3,
 "nbformat_minor": 0,
 "worksheets": [
  {
   "cells": [
    {
     "cell_type": "markdown",
     "metadata": {},
     "source": [
      "Requires: NLTK, Gensim and Networkx\n",
      "\n",
      "Dataset Used: DBLP Citation Network V6 (http://arnetminer.org/citation)"
     ]
    },
    {
     "cell_type": "markdown",
     "metadata": {},
     "source": [
      "To train the whole system from ground up use the following code.\n",
      "\n",
      "This however will take at least 6 hours and use up over 6GB of RAM"
     ]
    },
    {
     "cell_type": "code",
     "collapsed": false,
     "input": [
      "from citemachine.corpus.dblp import DBLP\n",
      "from citemachine import topic_model\n",
      "from citemachine.text_process import CorpusPreprocessor\n",
      "from citemachine.evaluation import precision, recall\n",
      "from citemachine.graph import CommunityRank, adj_lists_to_directed_graph\n",
      "from citemachine.recommender import LDARecommender, CiteMachine\n",
      "\n",
      "#set to the location where dblp is stored\n",
      "path_to_dblp = '../Data/Watson/DBLP/DBLP.txt'\n",
      "#set to a small value like 5000 to test on a subset of the data\n",
      "num_docs = None\n",
      "\n",
      "#parses the dataset\n",
      "dblp = DBLP(path_to_dblp, max_docs=num_docs)\n",
      "\n",
      "#preprocesses the data and trains an LDA\n",
      "recommender = LDARecommender(corpus=dblp, num_topics=100, train_at_init=True)\n",
      "\n",
      "#builds a reference graph then finds communities and ranks documents in each one using PageRank\n",
      "references_graph = adj_lists_to_directed_graph(dblp.references)\n",
      "comrank = CommunityRank(references_graph)\n",
      "\n",
      "# Combines the LDA model with the community graphs to create the final recommendation system\n",
      "citem = CiteMachine(recommender, comrank)"
     ],
     "language": "python",
     "metadata": {},
     "outputs": [
      {
       "output_type": "stream",
       "stream": "stderr",
       "text": [
        "WARNING:gensim.models.ldamodel:too few updates, training might not converge; consider increasing the number of passes or iterations to improve accuracy\n"
       ]
      }
     ],
     "prompt_number": 4
    },
    {
     "cell_type": "code",
     "collapsed": false,
     "input": [],
     "language": "python",
     "metadata": {},
     "outputs": []
    }
   ],
   "metadata": {}
  }
 ]
}