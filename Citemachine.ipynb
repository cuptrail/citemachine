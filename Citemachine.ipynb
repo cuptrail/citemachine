{
 "cells": [
  {
   "cell_type": "markdown",
   "metadata": {},
   "source": [
    "Requires: NLTK, Gensim and Networkx\n",
    "\n",
    "Dataset Used: DBLP Citation Network V6 (http://arnetminer.org/citation)"
   ]
  },
  {
   "cell_type": "markdown",
   "metadata": {},
   "source": [
    "To train the whole system from ground up use the following code.\n",
    "\n",
    "This however will take at least 6 hours and use up over 6GB of RAM"
   ]
  },
  {
   "cell_type": "code",
   "execution_count": 1,
   "metadata": {
    "collapsed": false
   },
   "outputs": [
    {
     "name": "stderr",
     "output_type": "stream",
     "text": [
      "WARNING:gensim.models.ldamodel:too few updates, training might not converge; consider increasing the number of passes or iterations to improve accuracy\n"
     ]
    }
   ],
   "source": [
    "from citemachine.corpus.dblp import DBLP\n",
    "from citemachine import topic_model\n",
    "from citemachine.text_process import CorpusPreprocessor\n",
    "from citemachine.evaluation import precision, recall\n",
    "from citemachine.graph import CommunityRank, adj_lists_to_directed_graph\n",
    "from citemachine.recommender import LDARecommender, CiteMachine\n",
    "\n",
    "#set to the location where dblp is stored\n",
    "path_to_dblp = '/home/hex/acm_output.txt'\n",
    "#set to a small value like 5000 to test on a subset of the data\n",
    "num_docs = 1000\n",
    "\n",
    "#parses the dataset\n",
    "dblp = DBLP(path_to_dblp, max_docs=num_docs)\n",
    "\n",
    "#preprocesses the data and trains an LDA\n",
    "recommender = LDARecommender(corpus=dblp, num_topics=100, train_at_init=True)\n",
    "\n",
    "#builds a reference graph then finds communities and ranks documents in each one using PageRank\n",
    "references_graph = adj_lists_to_directed_graph(dblp.references)\n",
    "comrank = CommunityRank(references_graph)\n",
    "\n",
    "# Combines the LDA model with the community graphs to create the final recommendation system\n",
    "citem = CiteMachine(recommender, comrank)"
   ]
  },
  {
   "cell_type": "code",
   "execution_count": 2,
   "metadata": {
    "collapsed": false
   },
   "outputs": [
    {
     "data": {
      "text/plain": [
       "[(5583, 0.14246331098208675),\n",
       " (5533, 0),\n",
       " (5522, 0),\n",
       " (5267, 0),\n",
       " (5302, 0),\n",
       " (5591, 0),\n",
       " (5014, 0),\n",
       " (5078, 0),\n",
       " (5377, 0),\n",
       " (5553, 0),\n",
       " (5036, 0),\n",
       " (5725, 0),\n",
       " (5558, 0),\n",
       " (5676, 0),\n",
       " (5614, 0),\n",
       " (5634, 0),\n",
       " (5598, 0),\n",
       " (5555, 0),\n",
       " (5795, 0),\n",
       " (5809, 0),\n",
       " (5677, 0),\n",
       " (5581, 0),\n",
       " (5666, 0),\n",
       " (5523, 0),\n",
       " (5665, 0),\n",
       " (5486, 0),\n",
       " (5599, 0),\n",
       " (5372, 0),\n",
       " (5540, 0),\n",
       " (5762, 0),\n",
       " (5061, 0),\n",
       " (5354, 0),\n",
       " (5107, 0),\n",
       " (5081, 0),\n",
       " (5259, 0),\n",
       " (5394, 0),\n",
       " (5187, 0),\n",
       " (5129, 0),\n",
       " (5454, 0),\n",
       " (5299, 0),\n",
       " (5508, 0),\n",
       " (5503, 0),\n",
       " (5641, 0),\n",
       " (5589, 0),\n",
       " (5487, 0),\n",
       " (5610, 0),\n",
       " (5772, 0),\n",
       " (5229, 0),\n",
       " (5373, 0),\n",
       " (5717, 0)]"
      ]
     },
     "execution_count": 2,
     "metadata": {},
     "output_type": "execute_result"
    }
   ],
   "source": [
    "citem.get_recommended_docs_for_text( \"This better work, or I'm gonna smack you upside the head.\" )"
   ]
  },
  {
   "cell_type": "code",
   "execution_count": 7,
   "metadata": {
    "collapsed": true
   },
   "outputs": [],
   "source": [
    "from gensim.models.doc2vec import Doc2Vec, TaggedDocument, LabeledSentence\n",
    "from nltk.tokenize import MWETokenizer\n",
    "import pandas as pd\n",
    "import random\n",
    "\n",
    "#include this 1st row in dataXXX-csv file \n",
    "#INDEX,1,2,3,4,CITATIONS,10,ABSTRACT,f"
   ]
  },
  {
   "cell_type": "code",
   "execution_count": 8,
   "metadata": {
    "collapsed": true
   },
   "outputs": [],
   "source": [
    "def get_abstracts_indices():\n",
    "    \n",
    "    #change the dir\n",
    "    papers = pd.read_csv( 'data-kw-216432.csv' )\n",
    "    # TODO: Get from whole dataset (too)\n",
    "    for i, abstract in enumerate( papers['ABSTRACT'] ):\n",
    "        index = papers['INDEX'][i]\n",
    "        if isinstance( abstract, float ):\n",
    "            #print( 'NO ABSTRACT FOUND at Index = '+ index )\n",
    "            continue\n",
    "        ab_words = abstract.lower().split()  # TODO: CHANGE TO SOMETHING ACTUALLY MEANINGFUL\n",
    "        yield TaggedDocument( words=ab_words, tags=[int(index)] )\n",
    "        #yield LabeledSentence( words=ab_words, tags=[int(index)] )\n",
    "        # TODO: Consider having the list of references as multiple tags/labels?"
   ]
  },
  {
   "cell_type": "code",
   "execution_count": 9,
   "metadata": {
    "collapsed": false
   },
   "outputs": [],
   "source": [
    "tdocs = list( get_abstracts_indices() )\n",
    "model = Doc2Vec( tdocs, size=500, window=10, min_count=4, workers=4 )"
   ]
  },
  {
   "cell_type": "code",
   "execution_count": null,
   "metadata": {
    "collapsed": false
   },
   "outputs": [
    {
     "name": "stdout",
     "output_type": "stream",
     "text": [
      "942619 1\n",
      "419120"
     ]
    }
   ],
   "source": [
    "#read file TODO: Improve the structure because it read the file twice.\n",
    "papers = pd.read_csv('data-kw-216432.csv' )\n",
    "\n",
    "#select 2000 documens randomly\n",
    "ids_sel = random.sample(list(papers['INDEX']), 2000)\n",
    "\n",
    "#define function to compare citation\n",
    "def compare_citations(ID):        \n",
    "    #TODO: evaluation of this   \n",
    "    #print(model.docvecs.most_similar(ID))\n",
    "    citations_fromdb = list(papers[papers['INDEX'] == ID]['CITATIONS'])\n",
    "    #print(citations_fromdb)\n",
    "\n",
    "    pred_citations =[]\n",
    "    for pair in model.docvecs.most_similar(ID):\n",
    "        ID2, score = pair \n",
    "        pred_citations.append(ID2)\n",
    "    for i in citations_fromdb:\n",
    "        actual_citations = i.split(\";\")\n",
    "    actual_citations = list(map(int, actual_citations))\n",
    "    #print(pred_citations)\n",
    "    #print(actual_citations)\n",
    "    if len(set(pred_citations) & set(actual_citations))>0:\n",
    "        print(ID,len(set(pred_citations) & set(actual_citations)))\n",
    "    acc = len(set(pred_citations) & set(actual_citations))/(min(len(pred_citations),len(actual_citations)))\n",
    "    return acc\n",
    "    \n",
    "\n",
    "# calculates the accuracy.    \n",
    "accuracy = {}    \n",
    "for ns in ids_sel:\n",
    "    accuracy [ns] = compare_citations(int(ns))\n",
    "print(sum(accuracy[ns] for ns in accuracy) / len(accuracy))"
   ]
  },
  {
   "cell_type": "code",
   "execution_count": null,
   "metadata": {
    "collapsed": true
   },
   "outputs": [],
   "source": []
  }
 ],
 "metadata": {
  "kernelspec": {
   "display_name": "Python 3",
   "language": "python",
   "name": "python3"
  },
  "language_info": {
   "codemirror_mode": {
    "name": "ipython",
    "version": 3
   },
   "file_extension": ".py",
   "mimetype": "text/x-python",
   "name": "python",
   "nbconvert_exporter": "python",
   "pygments_lexer": "ipython3",
   "version": "3.5.0"
  }
 },
 "nbformat": 4,
 "nbformat_minor": 0
}
